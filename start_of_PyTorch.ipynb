{
  "nbformat": 4,
  "nbformat_minor": 0,
  "metadata": {
    "colab": {
      "provenance": [],
      "authorship_tag": "ABX9TyP5xrcV+nZvrIlhfkSE+cYk",
      "include_colab_link": true
    },
    "kernelspec": {
      "name": "python3",
      "display_name": "Python 3"
    },
    "language_info": {
      "name": "python"
    }
  },
  "cells": [
    {
      "cell_type": "markdown",
      "metadata": {
        "id": "view-in-github",
        "colab_type": "text"
      },
      "source": [
        "<a href=\"https://colab.research.google.com/github/ARJUN108-verma/PyTorch/blob/main/start_of_PyTorch.ipynb\" target=\"_parent\"><img src=\"https://colab.research.google.com/assets/colab-badge.svg\" alt=\"Open In Colab\"/></a>"
      ]
    },
    {
      "cell_type": "markdown",
      "source": [
        "Start of Pytorch"
      ],
      "metadata": {
        "id": "TOUKaERtXA-l"
      }
    },
    {
      "cell_type": "code",
      "execution_count": 1,
      "metadata": {
        "id": "BtnrUGu6W7SX"
      },
      "outputs": [],
      "source": [
        "import torch\n",
        "from torch import nn\n",
        "from torch.utils.data import DataLoader\n",
        "from torchvision import datasets\n",
        "from torchvision.transforms import ToTensor"
      ]
    },
    {
      "cell_type": "markdown",
      "source": [
        "# Download training data from open datasets."
      ],
      "metadata": {
        "id": "uHaFWfjdbcX7"
      }
    },
    {
      "cell_type": "code",
      "source": [
        "training_data = datasets.FashionMNIST(\n",
        "    root = \"data\",\n",
        "    train = True,\n",
        "    download= True,\n",
        "    transform= ToTensor()\n",
        ")"
      ],
      "metadata": {
        "colab": {
          "base_uri": "https://localhost:8080/"
        },
        "id": "5q9SNwvfbcE8",
        "outputId": "49369753-e1d7-4264-ea44-1200b4b5563a"
      },
      "execution_count": 2,
      "outputs": [
        {
          "output_type": "stream",
          "name": "stderr",
          "text": [
            "100%|██████████| 26.4M/26.4M [00:01<00:00, 16.2MB/s]\n",
            "100%|██████████| 29.5k/29.5k [00:00<00:00, 276kB/s]\n",
            "100%|██████████| 4.42M/4.42M [00:00<00:00, 5.05MB/s]\n",
            "100%|██████████| 5.15k/5.15k [00:00<00:00, 18.8MB/s]\n"
          ]
        }
      ]
    },
    {
      "cell_type": "markdown",
      "source": [
        "# Download test data from open datasets."
      ],
      "metadata": {
        "id": "C5Tis1hjcavN"
      }
    },
    {
      "cell_type": "code",
      "source": [
        "test_data = datasets.FashionMNIST(\n",
        "    root = \"data\",\n",
        "    train = False,\n",
        "    download= True,\n",
        "    transform= ToTensor()\n",
        ")"
      ],
      "metadata": {
        "id": "pPo-Nc2Ocb6c"
      },
      "execution_count": 3,
      "outputs": []
    },
    {
      "cell_type": "code",
      "source": [
        "batch_size = 64\n",
        "\n",
        "#create dataloader\n",
        "train_dataloader = DataLoader(training_data, batch_size= batch_size)\n",
        "test_dataloader = DataLoader(test_data, batch_size= batch_size)\n",
        "\n",
        "for X, y in test_dataloader:\n",
        "    print(f\"Shape of X [N, C, H, W]: {X.shape}\")\n",
        "    print(f\"Shape of y: {y.shape} {y.dtype}\")\n",
        "    break"
      ],
      "metadata": {
        "colab": {
          "base_uri": "https://localhost:8080/"
        },
        "id": "uOFrEZEWdiWD",
        "outputId": "cdc44f36-bb53-47bf-b6e2-63faea71069d"
      },
      "execution_count": 5,
      "outputs": [
        {
          "output_type": "stream",
          "name": "stdout",
          "text": [
            "Shape of X [N, C, H, W]: torch.Size([64, 1, 28, 28])\n",
            "Shape of y: torch.Size([64]) torch.int64\n"
          ]
        }
      ]
    },
    {
      "cell_type": "markdown",
      "source": [
        "Creating Models"
      ],
      "metadata": {
        "id": "Bmeasu3WhB_c"
      }
    },
    {
      "cell_type": "code",
      "source": [
        "device = torch.accelerator.current_accelerator().type if torch.accelerator.is_available() else \"cpu\"\n",
        "print(f\"Using {device} device\")\n",
        "\n",
        "# Define model\n",
        "class NeuralNetwork(nn.Module):\n",
        "    def __init__(self):\n",
        "        super().__init__()\n",
        "        self.flatten = nn.Flatten()\n",
        "        self.linear_relu_stack = nn.Sequential(\n",
        "            nn.Linear(28*28, 512),\n",
        "            nn.ReLU(),\n",
        "            nn.Linear(512, 512),\n",
        "            nn.ReLU(),\n",
        "            nn.Linear(512, 10)\n",
        "        )\n",
        "\n",
        "    def forward(self, x):\n",
        "        x = self.flatten(x)\n",
        "        logits = self.linear_relu_stack(x)\n",
        "        return logits\n",
        "\n",
        "model = NeuralNetwork().to(device)\n",
        "print(model)"
      ],
      "metadata": {
        "colab": {
          "base_uri": "https://localhost:8080/"
        },
        "id": "Up-jO0IOhFLr",
        "outputId": "fdf0d146-b019-45e6-aa03-fd339706cfb9"
      },
      "execution_count": 6,
      "outputs": [
        {
          "output_type": "stream",
          "name": "stdout",
          "text": [
            "Using cpu device\n",
            "NeuralNetwork(\n",
            "  (flatten): Flatten(start_dim=1, end_dim=-1)\n",
            "  (linear_relu_stack): Sequential(\n",
            "    (0): Linear(in_features=784, out_features=512, bias=True)\n",
            "    (1): ReLU()\n",
            "    (2): Linear(in_features=512, out_features=512, bias=True)\n",
            "    (3): ReLU()\n",
            "    (4): Linear(in_features=512, out_features=10, bias=True)\n",
            "  )\n",
            ")\n"
          ]
        }
      ]
    },
    {
      "cell_type": "markdown",
      "source": [
        "Optimizing the Model Parameters"
      ],
      "metadata": {
        "id": "q0AGCtIqkeeM"
      }
    },
    {
      "cell_type": "code",
      "source": [
        "loss_fn = nn.CrossEntropyLoss()\n",
        "optimizer = torch.optim.SGD(model.parameters(), lr=1e-3)"
      ],
      "metadata": {
        "id": "tgLwsUYXkfu8"
      },
      "execution_count": 7,
      "outputs": []
    },
    {
      "cell_type": "code",
      "source": [
        "def train(dataloader, model, loss_fn, optimizer):\n",
        "    size = len(dataloader.dataset)\n",
        "    model.train()\n",
        "    for batch, (X, y) in enumerate(dataloader):\n",
        "        X, y = X.to(device), y.to(device)\n",
        "\n",
        "        # Compute prediction error\n",
        "        pred = model(X)\n",
        "        loss = loss_fn(pred, y)\n",
        "\n",
        "        # Backpropagation\n",
        "        loss.backward()\n",
        "        optimizer.step()\n",
        "        optimizer.zero_grad()\n",
        "\n",
        "        if batch % 100 == 0:\n",
        "            loss, current = loss.item(), (batch + 1) * len(X)\n",
        "            print(f\"loss: {loss:>7f}  [{current:>5d}/{size:>5d}]\")"
      ],
      "metadata": {
        "id": "yAXC8cEWlrbX"
      },
      "execution_count": 10,
      "outputs": []
    },
    {
      "cell_type": "markdown",
      "source": [
        "check the model’s performance against the test dataset to ensure it is learning."
      ],
      "metadata": {
        "id": "IResXDmNmKDc"
      }
    },
    {
      "cell_type": "code",
      "source": [
        "def test(dataloader, model, loss_fn):\n",
        "    size = len(dataloader.dataset)\n",
        "    num_batches = len(dataloader)\n",
        "    model.eval()\n",
        "    test_loss, correct = 0, 0\n",
        "    with torch.no_grad():\n",
        "        for X, y in dataloader:\n",
        "            X, y = X.to(device), y.to(device)\n",
        "            pred = model(X)\n",
        "            test_loss += loss_fn(pred, y).item()\n",
        "            correct += (pred.argmax(1) == y).type(torch.float).sum().item()\n",
        "    test_loss /= num_batches\n",
        "    correct /= size\n",
        "    print(f\"Test Error: \\n Accuracy: {(100*correct):>0.1f}%, Avg loss: {test_loss:>8f} \\n\")"
      ],
      "metadata": {
        "id": "h9_JJDISmDck"
      },
      "execution_count": 8,
      "outputs": []
    },
    {
      "cell_type": "code",
      "source": [
        "epochs = 5\n",
        "for t in range(epochs):\n",
        "    print(f\"Epoch {t+1}\\n-------------------------------\")\n",
        "    train(train_dataloader, model, loss_fn, optimizer)\n",
        "    test(test_dataloader, model, loss_fn)\n",
        "print(\"Done!\")"
      ],
      "metadata": {
        "colab": {
          "base_uri": "https://localhost:8080/"
        },
        "id": "Mjeif2Kvmgvm",
        "outputId": "16bceafd-7644-4043-ecae-2719df886c65"
      },
      "execution_count": 11,
      "outputs": [
        {
          "output_type": "stream",
          "name": "stdout",
          "text": [
            "Epoch 1\n",
            "-------------------------------\n",
            "loss: 2.304386  [   64/60000]\n",
            "loss: 2.288546  [ 6464/60000]\n",
            "loss: 2.276118  [12864/60000]\n",
            "loss: 2.262132  [19264/60000]\n",
            "loss: 2.245085  [25664/60000]\n",
            "loss: 2.226734  [32064/60000]\n",
            "loss: 2.224965  [38464/60000]\n",
            "loss: 2.199898  [44864/60000]\n",
            "loss: 2.185009  [51264/60000]\n",
            "loss: 2.155898  [57664/60000]\n",
            "Test Error: \n",
            " Accuracy: 56.3%, Avg loss: 2.155009 \n",
            "\n",
            "Epoch 2\n",
            "-------------------------------\n",
            "loss: 2.164302  [   64/60000]\n",
            "loss: 2.147075  [ 6464/60000]\n",
            "loss: 2.095274  [12864/60000]\n",
            "loss: 2.107028  [19264/60000]\n",
            "loss: 2.056229  [25664/60000]\n",
            "loss: 2.009989  [32064/60000]\n",
            "loss: 2.021152  [38464/60000]\n",
            "loss: 1.948926  [44864/60000]\n",
            "loss: 1.945177  [51264/60000]\n",
            "loss: 1.872274  [57664/60000]\n",
            "Test Error: \n",
            " Accuracy: 55.5%, Avg loss: 1.877409 \n",
            "\n",
            "Epoch 3\n",
            "-------------------------------\n",
            "loss: 1.909241  [   64/60000]\n",
            "loss: 1.871872  [ 6464/60000]\n",
            "loss: 1.757764  [12864/60000]\n",
            "loss: 1.797979  [19264/60000]\n",
            "loss: 1.693771  [25664/60000]\n",
            "loss: 1.653503  [32064/60000]\n",
            "loss: 1.658326  [38464/60000]\n",
            "loss: 1.572953  [44864/60000]\n",
            "loss: 1.595142  [51264/60000]\n",
            "loss: 1.482945  [57664/60000]\n",
            "Test Error: \n",
            " Accuracy: 59.8%, Avg loss: 1.513271 \n",
            "\n",
            "Epoch 4\n",
            "-------------------------------\n",
            "loss: 1.581384  [   64/60000]\n",
            "loss: 1.538737  [ 6464/60000]\n",
            "loss: 1.399183  [12864/60000]\n",
            "loss: 1.469568  [19264/60000]\n",
            "loss: 1.354619  [25664/60000]\n",
            "loss: 1.358585  [32064/60000]\n",
            "loss: 1.351597  [38464/60000]\n",
            "loss: 1.294783  [44864/60000]\n",
            "loss: 1.329717  [51264/60000]\n",
            "loss: 1.218709  [57664/60000]\n",
            "Test Error: \n",
            " Accuracy: 62.6%, Avg loss: 1.256017 \n",
            "\n",
            "Epoch 5\n",
            "-------------------------------\n",
            "loss: 1.336623  [   64/60000]\n",
            "loss: 1.306647  [ 6464/60000]\n",
            "loss: 1.152810  [12864/60000]\n",
            "loss: 1.257439  [19264/60000]\n",
            "loss: 1.130642  [25664/60000]\n",
            "loss: 1.165909  [32064/60000]\n",
            "loss: 1.163683  [38464/60000]\n",
            "loss: 1.120915  [44864/60000]\n",
            "loss: 1.162240  [51264/60000]\n",
            "loss: 1.062587  [57664/60000]\n",
            "Test Error: \n",
            " Accuracy: 64.0%, Avg loss: 1.094658 \n",
            "\n",
            "Done!\n"
          ]
        }
      ]
    },
    {
      "cell_type": "markdown",
      "source": [
        "Saving Models"
      ],
      "metadata": {
        "id": "lf1nC6gUnNV9"
      }
    },
    {
      "cell_type": "code",
      "source": [
        "torch.save(model.state_dict(), \"model.pth\")\n",
        "print(\"Saved PyTorch Model State to model.pth\")"
      ],
      "metadata": {
        "colab": {
          "base_uri": "https://localhost:8080/"
        },
        "id": "dOQ4J5tlnOhN",
        "outputId": "dfee8f58-336e-4073-983c-31ae842c2900"
      },
      "execution_count": 12,
      "outputs": [
        {
          "output_type": "stream",
          "name": "stdout",
          "text": [
            "Saved PyTorch Model State to model.pth\n"
          ]
        }
      ]
    },
    {
      "cell_type": "markdown",
      "source": [
        "Loading Models"
      ],
      "metadata": {
        "id": "bYXbkECenVd-"
      }
    },
    {
      "cell_type": "code",
      "source": [
        "model = NeuralNetwork().to(device)\n",
        "model.load_state_dict(torch.load(\"model.pth\", weights_only=True))"
      ],
      "metadata": {
        "colab": {
          "base_uri": "https://localhost:8080/"
        },
        "id": "TqO9pJU2nWLR",
        "outputId": "25e681af-5e46-4566-99e0-eb305874df7f"
      },
      "execution_count": 13,
      "outputs": [
        {
          "output_type": "execute_result",
          "data": {
            "text/plain": [
              "<All keys matched successfully>"
            ]
          },
          "metadata": {},
          "execution_count": 13
        }
      ]
    },
    {
      "cell_type": "code",
      "source": [
        "classes = [\n",
        "    \"T-shirt/top\",\n",
        "    \"Trouser\",\n",
        "    \"Pullover\",\n",
        "    \"Dress\",\n",
        "    \"Coat\",\n",
        "    \"Sandal\",\n",
        "    \"Shirt\",\n",
        "    \"Sneaker\",\n",
        "    \"Bag\",\n",
        "    \"Ankle boot\",\n",
        "]\n",
        "\n",
        "model.eval()\n",
        "x, y = test_data[0][0], test_data[0][1]\n",
        "with torch.no_grad():\n",
        "    x = x.to(device)\n",
        "    pred = model(x)\n",
        "    predicted, actual = classes[pred[0].argmax(0)], classes[y]\n",
        "    print(f'Predicted: \"{predicted}\", Actual: \"{actual}\"')"
      ],
      "metadata": {
        "colab": {
          "base_uri": "https://localhost:8080/"
        },
        "id": "epPvYlu0neZt",
        "outputId": "1f69cd9f-84c6-45de-94b9-afcc68f6ac84"
      },
      "execution_count": 14,
      "outputs": [
        {
          "output_type": "stream",
          "name": "stdout",
          "text": [
            "Predicted: \"Ankle boot\", Actual: \"Ankle boot\"\n"
          ]
        }
      ]
    }
  ]
}